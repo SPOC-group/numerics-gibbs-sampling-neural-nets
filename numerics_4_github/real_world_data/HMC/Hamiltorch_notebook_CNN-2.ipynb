{
  "cells": [
    {
      "cell_type": "code",
      "source": [
        "!mkdir hamiltorch"
      ],
      "metadata": {
        "id": "NfzbeqgsMOEo",
        "colab": {
          "base_uri": "https://localhost:8080/"
        },
        "outputId": "f2824589-4b49-49d0-a118-376ffd536e61"
      },
      "execution_count": null,
      "outputs": [
        {
          "output_type": "stream",
          "name": "stdout",
          "text": [
            "mkdir: cannot create directory ‘hamiltorch’: File exists\n"
          ]
        }
      ]
    },
    {
      "cell_type": "code",
      "execution_count": null,
      "metadata": {
        "id": "u7TqyD5REuHB"
      },
      "outputs": [],
      "source": [
        "import numpy as np\n",
        "import pandas as pd\n",
        "import torch\n",
        "import hamiltorch\n",
        "import matplotlib.pyplot as plt\n",
        "\n",
        "import torch.nn as nn\n",
        "import torch.nn.functional as F"
      ]
    },
    {
      "cell_type": "code",
      "execution_count": null,
      "metadata": {
        "colab": {
          "base_uri": "https://localhost:8080/"
        },
        "id": "BKF9eYB2EuHE",
        "outputId": "32609a64-f30f-4058-dff2-a8c87432d918"
      },
      "outputs": [
        {
          "output_type": "execute_result",
          "data": {
            "text/plain": [
              "device(type='cuda')"
            ]
          },
          "metadata": {},
          "execution_count": 4
        }
      ],
      "source": [
        "hamiltorch.set_random_seed(123)\n",
        "device = torch.device('cuda' if torch.cuda.is_available() else 'cpu')\n",
        "device"
      ]
    },
    {
      "cell_type": "code",
      "execution_count": null,
      "metadata": {
        "id": "kzXK2G0CMC3l"
      },
      "outputs": [],
      "source": [
        "class ConvNeuralNet(nn.Module):\n",
        "    # Determine what layers and their order in CNN object \n",
        "    def __init__(self, num_classes):\n",
        "        super(ConvNeuralNet, self).__init__()\n",
        "        self.conv_layer = nn.Conv2d(in_channels=1, out_channels=2, kernel_size=4, stride=2,padding=0)\n",
        "        self.avg_pool = nn.AvgPool2d(kernel_size = 2, stride = 2, padding=0)\n",
        "        self.relu = nn.ReLU()\n",
        "        self.fc = nn.Linear(72,num_classes,bias=True)\n",
        "    \n",
        "    # Propagate data across layers    \n",
        "    def forward(self, x):\n",
        "        out = self.conv_layer(x)\n",
        "        out = self.avg_pool(out)\n",
        "        out = out.view(out.size(0), -1)\n",
        "        out = self.relu(out)\n",
        "        out = self.fc(out)\n",
        "        \n",
        "        return out\n",
        "\n",
        "net = ConvNeuralNet(10)\n",
        "\n",
        "weights_size = [p.size() for p in net.parameters()]\n",
        "\n",
        "lambda_W= 16 # inverse precision of prior on convolutional filter\n",
        "lambda_W_2= 72 # inverse precision of prior on second layer weights\n",
        "lambda_b= 16 # inverse precision of prior on convolution bias\n",
        "lambda_b_2= 72 # inverse precision of prior on second layer bias\n",
        "\n",
        "tau_vals = [lambda_W, lambda_b, lambda_W_2, lambda_b_2]\n",
        "tau_list = torch.cat([torch.ones(weights_size[i]).flatten()*tau_vals[i] for i in range(len(weights_size))]).to(device)\n"
      ]
    },
    {
      "cell_type": "code",
      "execution_count": null,
      "metadata": {
        "id": "7CBPso_WEuHG"
      },
      "outputs": [],
      "source": [
        "n=60000\n",
        "n_test=5000\n",
        "\n",
        "file_mnist=np.load(\"mnist.npz\",allow_pickle=True)\n",
        "X_train=torch.tensor(file_mnist[\"x_train\"]) #use only half of the training set\n",
        "X_test=torch.tensor(file_mnist['x_test']) #use only half of the test set\n",
        "X_train=X_train.reshape([60000,1,28,28])[:n]/255\n",
        "X_test=X_test.reshape([10000,1,28,28])[:n_test]/255\n",
        "mean_X=torch.mean(X_train)\n",
        "std_X=torch.std(X_train)\n",
        "\n",
        "X_train=(X_train-mean_X)/std_X\n",
        "X_test=(X_test-mean_X)/std_X\n",
        "y_train=torch.tensor(file_mnist['y_train']).type(torch.long).flatten()[:n]\n",
        "y_test=torch.tensor(file_mnist['y_test']).type(torch.long).flatten()[:n_test]\n",
        "\n",
        "X_test = torch.Tensor(X_test).to(device)\n",
        "y_test = torch.Tensor(y_test).to(device)\n",
        "X_train = torch.Tensor(X_train).to(device)\n",
        "y_train = torch.Tensor(y_train).to(device)"
      ]
    },
    {
      "cell_type": "code",
      "execution_count": null,
      "metadata": {
        "id": "vRIm8KOZEuHH"
      },
      "outputs": [],
      "source": [
        "delta = 10\n",
        "step_size = 1e-3\n",
        "num_samples = 1000\n",
        "L = 50\n",
        "tau_out = 1/float(delta)/2"
      ]
    },
    {
      "cell_type": "code",
      "execution_count": null,
      "metadata": {
        "id": "WW0nmDX1EuHJ",
        "colab": {
          "base_uri": "https://localhost:8080/",
          "height": 488
        },
        "outputId": "e8a47bea-e897-44e8-843e-24d63f8746fd"
      },
      "outputs": [
        {
          "output_type": "stream",
          "name": "stdout",
          "text": [
            "Parameter size:  764\n"
          ]
        },
        {
          "output_type": "stream",
          "name": "stderr",
          "text": [
            "100%|██████████| 1000/1000 [48:55<00:00,  2.94s/it]\n"
          ]
        },
        {
          "output_type": "display_data",
          "data": {
            "text/plain": [
              "<Figure size 640x480 with 1 Axes>"
            ],
            "image/png": "[encoded data removed]"
          },
          "metadata": {}
        }
      ],
      "source": [
        "network = net.to(device)\n",
        "\n",
        "hamiltorch.set_random_seed(123)\n",
        "params_init = hamiltorch.util.flatten(network).to(device).clone()\n",
        "print('Parameter size: ',params_init.shape[0])\n",
        "N_tr=X_train.shape[0]\n",
        "\n",
        "params_hmc = hamiltorch.sample_model(network, X_train, y_train, model_loss='multi_class_linear_output',params_init=params_init, num_samples=num_samples,\n",
        "                               step_size=step_size, num_steps_per_sample=L,tau_out=tau_out,normalizing_const=N_tr, tau_list=tau_list)\n",
        "\n",
        "pred_list, log_prob_list = hamiltorch.predict_model(network, x=X_train, y=y_train, model_loss='multi_class_linear_output', samples=params_hmc[:], tau_out=tau_out, tau_list=tau_list)\n",
        "accuracy_zero = (pred_list.data.detach().argmax(axis=2) == y_train.detach()).to(\"cpu\").numpy().mean(axis=1)\n",
        "\n",
        "pred_list, log_prob_list = hamiltorch.predict_model(network, x=X_test, y=y_test, model_loss='multi_class_linear_output', samples=params_hmc[:], tau_out=tau_out, tau_list=tau_list)\n",
        "accuracy_zero_test = (pred_list.data.detach().argmax(axis=2) == y_test.detach()).to(\"cpu\").numpy().mean(axis=1)\n",
        "\n",
        "pd.DataFrame(data={\"accuracy_train\":accuracy_zero, \"accuracy_test\":accuracy_zero_test}).to_csv(f\"accuracy_CNN_delta_{delta}.csv\")\n",
        "plt.plot(accuracy_zero, label=\"Train\")\n",
        "plt.plot(accuracy_zero_test, label=\"Test\")\n",
        "\n",
        "plt.xscale('log')\n",
        "plt.xlabel(\"steps\")\n",
        "plt.ylabel(\"Accuracy\")\n",
        "plt.legend()\n",
        "plt.savefig(\"accuracy_CNN.png\")\n",
        "plt.show()"
      ]
    },
    {
      "cell_type": "code",
      "source": [
        "log_prob_numpy = np.zeros(len(log_prob_list))\n",
        "for i,log_p in enumerate(log_prob_list):\n",
        "    log_prob_numpy[i] = log_p.to(\"cpu\")"
      ],
      "metadata": {
        "id": "PRtUwA-xMsK2"
      },
      "execution_count": null,
      "outputs": []
    },
    {
      "cell_type": "code",
      "execution_count": null,
      "metadata": {
        "id": "7QNZEMGFMC3p"
      },
      "outputs": [],
      "source": [
        "plt.plot(log_prob_numpy)\n",
        "plt.xscale('log')"
      ]
    },
    {
      "cell_type": "code",
      "execution_count": null,
      "metadata": {
        "id": "ikSs7yUiLb1h"
      },
      "outputs": [],
      "source": [
        "plt.plot(1-accuracy_zero, label=\"Train\")\n",
        "plt.plot(1-accuracy_zero_test, label=\"Test\")\n",
        "\n",
        "plt.xscale('log')\n",
        "plt.yscale(\"log\")\n",
        "plt.xlabel(\"steps\")\n",
        "plt.ylabel(\"1-Accuracy\")\n",
        "plt.legend()\n",
        "plt.savefig(\"accuracy_MLP.png\")\n",
        "plt.show()"
      ]
    },
    {
      "cell_type": "code",
      "source": [
        "W_mask = torch.cat([torch.ones(weights_size[0]).flatten(), torch.zeros(weights_size[1]).flatten(), torch.zeros(weights_size[2]).flatten(), torch.zeros(weights_size[3]).flatten()])\n",
        "b_mask = torch.cat([torch.zeros(weights_size[0]).flatten(), torch.ones(weights_size[1]).flatten(), torch.zeros(weights_size[2]).flatten(), torch.zeros(weights_size[3]).flatten()])\n",
        "W_2_mask = torch.cat([torch.zeros(weights_size[0]).flatten(), torch.zeros(weights_size[1]).flatten(), torch.ones(weights_size[2]).flatten(), torch.zeros(weights_size[3]).flatten()])\n",
        "b_2_mask = torch.cat([torch.zeros(weights_size[0]).flatten(), torch.zeros(weights_size[1]).flatten(), torch.zeros(weights_size[2]).flatten(), torch.ones(weights_size[3]).flatten()])\n",
        "\n",
        "\n",
        "W_norm_list = np.zeros(num_samples)\n",
        "b_norm_list = np.zeros(num_samples)\n",
        "W_2_bias_norm_list = np.zeros(num_samples)\n",
        "b_2_bias_norm_list = np.zeros(num_samples)\n",
        "for t in range(num_samples):\n",
        "    W_norm_list[t] = torch.linalg.norm(params_hmc[t][W_mask==1])/np.sqrt(np.prod(weights_size[0]))\n",
        "    b_norm_list[t] = torch.linalg.norm(params_hmc[t][b_mask==1])/np.sqrt(np.prod(weights_size[1]))\n",
        "    W_2_bias_norm_list[t] = torch.linalg.norm(params_hmc[t][W_2_mask==1])/np.sqrt(np.prod(weights_size[2]))\n",
        "    b_2_bias_norm_list[t] = torch.linalg.norm(params_hmc[t][b_2_mask==1])/np.sqrt(np.prod(weights_size[3]))\n"
      ],
      "metadata": {
        "id": "IcSNRcFsPUfP"
      },
      "execution_count": null,
      "outputs": []
    },
    {
      "cell_type": "code",
      "execution_count": null,
      "metadata": {
        "id": "tTY6gJIjMC3r"
      },
      "outputs": [],
      "source": [
        "plt.subplot(2,2,1)\n",
        "plt.plot(W_norm_list[1:])\n",
        "plt.xscale('log')\n",
        "plt.yscale(\"log\")\n",
        "\n",
        "plt.subplot(2,2,2)\n",
        "plt.plot(b_norm_list[1:])\n",
        "plt.xscale('log')\n",
        "plt.yscale(\"log\")\n",
        "\n",
        "plt.subplot(2,2,3)\n",
        "plt.plot(W_2_bias_norm_list[1:])\n",
        "plt.xscale('log')\n",
        "plt.yscale(\"log\")\n",
        "plt.xlabel(\"steps\")\n",
        "\n",
        "plt.subplot(2,2,4)\n",
        "plt.plot(b_2_bias_norm_list[1:])\n",
        "plt.xscale('log')\n",
        "plt.yscale(\"log\")\n",
        "plt.xlabel(\"steps\")\n",
        "\n",
        "\n",
        "plt.show()"
      ]
    },
    {
      "cell_type": "code",
      "execution_count": null,
      "metadata": {
        "id": "M6hI1-5-MC3t"
      },
      "outputs": [],
      "source": [
        "from google.colab import files\n",
        "files.download('accuracy_CNN.csv') "
      ]
    },
    {
      "cell_type": "code",
      "source": [],
      "metadata": {
        "id": "wugQUJQWRDcy"
      },
      "execution_count": null,
      "outputs": []
    }
  ],
  "metadata": {
    "accelerator": "GPU",
    "colab": {
      "provenance": [],
      "gpuType": "T4"
    },
    "gpuClass": "standard",
    "kernelspec": {
      "display_name": "Python 3.10.8 64-bit",
      "language": "python",
      "name": "python3"
    },
    "language_info": {
      "codemirror_mode": {
        "name": "ipython",
        "version": 3
      },
      "file_extension": ".py",
      "mimetype": "text/x-python",
      "name": "python",
      "nbconvert_exporter": "python",
      "pygments_lexer": "ipython3",
      "version": "3.10.8"
    },
    "orig_nbformat": 4,
    "vscode": {
      "interpreter": {
        "hash": "aee8b7b246df8f9039afb4144a1f6fd8d2ca17a180786b69acc140d282b71a49"
      }
    }
  },
  "nbformat": 4,
  "nbformat_minor": 0
}